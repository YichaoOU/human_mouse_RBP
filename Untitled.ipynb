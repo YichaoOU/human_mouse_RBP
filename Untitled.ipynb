{
 "cells": [
  {
   "cell_type": "code",
   "execution_count": 1,
   "metadata": {},
   "outputs": [
    {
     "data": {
      "text/plain": [
       "['human_gene_id.tsv',\n",
       " 'mouse_gene_id.tsv',\n",
       " 'README.md',\n",
       " 'STable 02 AvanaLibrary.xlsx',\n",
       " 'STable 03 AsiagoLibrary.xlsx',\n",
       " 'Untitled.ipynb']"
      ]
     },
     "execution_count": 1,
     "metadata": {},
     "output_type": "execute_result"
    }
   ],
   "source": [
    "import pandas as pd\n",
    "import glob\n",
    "glob.glob(\"*\")"
   ]
  },
  {
   "cell_type": "code",
   "execution_count": 23,
   "metadata": {},
   "outputs": [],
   "source": [
    "# human \n",
    "# human library (Avana) of 110,257 sgRNAs and a mouse library (Asiago) of 120,453 sgRNAs\n",
    "df = pd.read_csv(\"human_gene_id.tsv\",sep=\"\\t\",dtype=str)\n",
    "df = df[['Ensembl gene ID','NCBI Gene ID']]\n",
    "df = df[~df['NCBI Gene ID'].isnull()]\n",
    "df = df.set_index(\"NCBI Gene ID\")"
   ]
  },
  {
   "cell_type": "code",
   "execution_count": 24,
   "metadata": {},
   "outputs": [
    {
     "data": {
      "text/html": [
       "<div>\n",
       "<style scoped>\n",
       "    .dataframe tbody tr th:only-of-type {\n",
       "        vertical-align: middle;\n",
       "    }\n",
       "\n",
       "    .dataframe tbody tr th {\n",
       "        vertical-align: top;\n",
       "    }\n",
       "\n",
       "    .dataframe thead th {\n",
       "        text-align: right;\n",
       "    }\n",
       "</style>\n",
       "<table border=\"1\" class=\"dataframe\">\n",
       "  <thead>\n",
       "    <tr style=\"text-align: right;\">\n",
       "      <th></th>\n",
       "      <th>Ensembl gene ID</th>\n",
       "    </tr>\n",
       "    <tr>\n",
       "      <th>NCBI Gene ID</th>\n",
       "      <th></th>\n",
       "    </tr>\n",
       "  </thead>\n",
       "  <tbody>\n",
       "    <tr>\n",
       "      <th>1</th>\n",
       "      <td>ENSG00000121410</td>\n",
       "    </tr>\n",
       "    <tr>\n",
       "      <th>503538</th>\n",
       "      <td>ENSG00000268895</td>\n",
       "    </tr>\n",
       "    <tr>\n",
       "      <th>29974</th>\n",
       "      <td>ENSG00000148584</td>\n",
       "    </tr>\n",
       "    <tr>\n",
       "      <th>2</th>\n",
       "      <td>ENSG00000175899</td>\n",
       "    </tr>\n",
       "    <tr>\n",
       "      <th>144571</th>\n",
       "      <td>ENSG00000245105</td>\n",
       "    </tr>\n",
       "  </tbody>\n",
       "</table>\n",
       "</div>"
      ],
      "text/plain": [
       "              Ensembl gene ID\n",
       "NCBI Gene ID                 \n",
       "1             ENSG00000121410\n",
       "503538        ENSG00000268895\n",
       "29974         ENSG00000148584\n",
       "2             ENSG00000175899\n",
       "144571        ENSG00000245105"
      ]
     },
     "execution_count": 24,
     "metadata": {},
     "output_type": "execute_result"
    }
   ],
   "source": [
    "df.head()"
   ]
  },
  {
   "cell_type": "code",
   "execution_count": 10,
   "metadata": {},
   "outputs": [],
   "source": [
    "f='STable 02 AvanaLibrary.xlsx'\n",
    "xls = pd.ExcelFile(f)\n",
    "df_list = []\n",
    "for s in xls.sheet_names:\n",
    "    df_list.append(pd.read_excel(f, s))"
   ]
  },
  {
   "cell_type": "code",
   "execution_count": 11,
   "metadata": {},
   "outputs": [],
   "source": [
    "df2 = pd.concat(df_list)"
   ]
  },
  {
   "cell_type": "code",
   "execution_count": 27,
   "metadata": {},
   "outputs": [],
   "source": [
    "df2['Annotated Gene ID'] = df2['Annotated Gene ID'].astype(str)\n",
    "df2['ENSEMBL_ID'] = df2['Annotated Gene ID'].map(df['Ensembl gene ID'].to_dict())"
   ]
  },
  {
   "cell_type": "code",
   "execution_count": 33,
   "metadata": {},
   "outputs": [
    {
     "name": "stdout",
     "output_type": "stream",
     "text": [
      "(416, 1)\n",
      "391\n"
     ]
    }
   ],
   "source": [
    "myList = pd.read_csv(\"human.list\",header=None)\n",
    "print (myList.shape)\n",
    "df2['is_RBP'] = df2['ENSEMBL_ID'].isin(myList[0])\n",
    "df3 = df2[df2.is_RBP==True]\n",
    "print (df3.ENSEMBL_ID.nunique())"
   ]
  },
  {
   "cell_type": "code",
   "execution_count": 34,
   "metadata": {},
   "outputs": [
    {
     "data": {
      "text/html": [
       "<div>\n",
       "<style scoped>\n",
       "    .dataframe tbody tr th:only-of-type {\n",
       "        vertical-align: middle;\n",
       "    }\n",
       "\n",
       "    .dataframe tbody tr th {\n",
       "        vertical-align: top;\n",
       "    }\n",
       "\n",
       "    .dataframe thead th {\n",
       "        text-align: right;\n",
       "    }\n",
       "</style>\n",
       "<table border=\"1\" class=\"dataframe\">\n",
       "  <thead>\n",
       "    <tr style=\"text-align: right;\">\n",
       "      <th></th>\n",
       "      <th>Barcode Sequence</th>\n",
       "      <th>Annotated Gene Symbol</th>\n",
       "      <th>Annotated Gene ID</th>\n",
       "      <th>ENSEMBL_ID</th>\n",
       "      <th>is_RBP</th>\n",
       "    </tr>\n",
       "  </thead>\n",
       "  <tbody>\n",
       "    <tr>\n",
       "      <th>55</th>\n",
       "      <td>AACACGGTCTTACACCCAGG</td>\n",
       "      <td>ENOX1</td>\n",
       "      <td>55068</td>\n",
       "      <td>ENSG00000120658</td>\n",
       "      <td>True</td>\n",
       "    </tr>\n",
       "    <tr>\n",
       "      <th>104</th>\n",
       "      <td>AACTATGGAGAATATGGCGG</td>\n",
       "      <td>TRMT1L</td>\n",
       "      <td>81627</td>\n",
       "      <td>ENSG00000121486</td>\n",
       "      <td>True</td>\n",
       "    </tr>\n",
       "    <tr>\n",
       "      <th>109</th>\n",
       "      <td>AACTCCCGCCCTACAAGCAG</td>\n",
       "      <td>G3BP2</td>\n",
       "      <td>9908</td>\n",
       "      <td>ENSG00000138757</td>\n",
       "      <td>True</td>\n",
       "    </tr>\n",
       "    <tr>\n",
       "      <th>122</th>\n",
       "      <td>AACTTGTTAGAAAAGACAGG</td>\n",
       "      <td>NOL8</td>\n",
       "      <td>55035</td>\n",
       "      <td>ENSG00000198000</td>\n",
       "      <td>True</td>\n",
       "    </tr>\n",
       "    <tr>\n",
       "      <th>141</th>\n",
       "      <td>AAGAAGGCTGTGCAAGGCGG</td>\n",
       "      <td>SNRPA</td>\n",
       "      <td>6626</td>\n",
       "      <td>ENSG00000077312</td>\n",
       "      <td>True</td>\n",
       "    </tr>\n",
       "  </tbody>\n",
       "</table>\n",
       "</div>"
      ],
      "text/plain": [
       "         Barcode Sequence Annotated Gene Symbol Annotated Gene ID  \\\n",
       "55   AACACGGTCTTACACCCAGG                 ENOX1             55068   \n",
       "104  AACTATGGAGAATATGGCGG                TRMT1L             81627   \n",
       "109  AACTCCCGCCCTACAAGCAG                 G3BP2              9908   \n",
       "122  AACTTGTTAGAAAAGACAGG                  NOL8             55035   \n",
       "141  AAGAAGGCTGTGCAAGGCGG                 SNRPA              6626   \n",
       "\n",
       "          ENSEMBL_ID  is_RBP  \n",
       "55   ENSG00000120658    True  \n",
       "104  ENSG00000121486    True  \n",
       "109  ENSG00000138757    True  \n",
       "122  ENSG00000198000    True  \n",
       "141  ENSG00000077312    True  "
      ]
     },
     "execution_count": 34,
     "metadata": {},
     "output_type": "execute_result"
    }
   ],
   "source": [
    "df3.head()"
   ]
  },
  {
   "cell_type": "code",
   "execution_count": 35,
   "metadata": {},
   "outputs": [],
   "source": [
    "df3.to_csv(\"Human_RBP.csv\",index=False)"
   ]
  },
  {
   "cell_type": "code",
   "execution_count": 39,
   "metadata": {},
   "outputs": [
    {
     "name": "stdout",
     "output_type": "stream",
     "text": [
      "(415, 1)\n",
      "374\n"
     ]
    }
   ],
   "source": [
    "# mouse\n",
    "df = pd.read_csv(\"mouse_gene_id.tsv\",sep=\"\\t\",dtype=str)\n",
    "df = df[['Gene stable ID','NCBI gene (formerly Entrezgene) ID']]\n",
    "df.columns = ['Ensembl gene ID','NCBI Gene ID']\n",
    "df = df[~df['NCBI Gene ID'].isnull()]\n",
    "df = df.set_index(\"NCBI Gene ID\")\n",
    "f='STable 03 AsiagoLibrary.xlsx'\n",
    "xls = pd.ExcelFile(f)\n",
    "df_list = []\n",
    "for s in xls.sheet_names:\n",
    "    df_list.append(pd.read_excel(f, s))\n",
    "df2 = pd.concat(df_list)\n",
    "df2['Annotated Gene ID'] = df2['Annotated Gene ID'].astype(str)\n",
    "df2['ENSEMBL_ID'] = df2['Annotated Gene ID'].map(df['Ensembl gene ID'].to_dict())   \n",
    "myList = pd.read_csv(\"mouse.list\",header=None)\n",
    "print (myList.shape)\n",
    "df2['is_RBP'] = df2['ENSEMBL_ID'].isin(myList[0])\n",
    "df3 = df2[df2.is_RBP==True]\n",
    "print (df3.ENSEMBL_ID.nunique())    \n",
    "df3.to_csv(\"Mouse_RBP.csv\",index=False)    \n"
   ]
  }
 ],
 "metadata": {
  "kernelspec": {
   "display_name": "Python 3",
   "language": "python",
   "name": "python3"
  },
  "language_info": {
   "codemirror_mode": {
    "name": "ipython",
    "version": 3
   },
   "file_extension": ".py",
   "mimetype": "text/x-python",
   "name": "python",
   "nbconvert_exporter": "python",
   "pygments_lexer": "ipython3",
   "version": "3.7.6"
  }
 },
 "nbformat": 4,
 "nbformat_minor": 4
}
